{
 "cells": [
  {
   "cell_type": "code",
   "execution_count": null,
   "metadata": {},
   "outputs": [],
   "source": [
    "using Plots; pyplot()\n",
    "using SolidStateDetectors\n",
    "using MJDSigGen"
   ]
  },
  {
   "cell_type": "code",
   "execution_count": null,
   "metadata": {
    "scrolled": true
   },
   "outputs": [],
   "source": [
    "mjd_config_file = \"mjd_simulation/config_files/mjd_ivc.config\"\n",
    "MJDSigGen.fieldgen(mjd_config_file)\n",
    "\n",
    "setup = MJDSigGen.signal_calc_init(mjd_config_file)\n",
    "\n",
    "setup.verbosity = 0;\n",
    "r_axis = (0:(setup.rlen - 1)) * setup.xtal_grid\n",
    "z_axis = (0:(setup.zlen - 1)) * setup.xtal_grid;\n",
    "\n",
    "detector_shape = [ !MJDSigGen.outside_detector(setup, (r, convert(Float32, 0.0), z)) for z in z_axis, r in r_axis ]\n",
    "\n",
    "E_pot_org, W_pot_org, E_abs_org, E_r_org, E_z_org = MJDSigGen.read_fields(setup);"
   ]
  },
  {
   "cell_type": "code",
   "execution_count": null,
   "metadata": {},
   "outputs": [],
   "source": [
    "sim_cyl = Simulation( \"public_ivc_config_cyl.json\" );\n",
    "sim_car = Simulation( \"public_ivc_config_car.json\" );"
   ]
  },
  {
   "cell_type": "code",
   "execution_count": null,
   "metadata": {},
   "outputs": [],
   "source": [
    "calculate_electric_potential!(sim_cyl);\n",
    "calculate_electric_potential!(sim_car);"
   ]
  },
  {
   "cell_type": "code",
   "execution_count": null,
   "metadata": {},
   "outputs": [],
   "source": [
    "plot(\n",
    "    plot(r_axis, z_axis, E_pot_org, st=:heatmap, c = :viridis, aspect_ratio = 1,\n",
    "        xlims = (0, 40), ylims=(-10, 90), title = \"FieldGen\", colorbar=false),\n",
    "    plot(sim_cyl.electric_potential, title=\"SSD - Cylindrical\"),\n",
    "    plot(sim_car.electric_potential, x = 0, title=\"SSD - Cartesian\", colorbar=false),\n",
    "    layout= (@layout [a b c{0.5w}]), size = (1100, 450)\n",
    ")"
   ]
  },
  {
   "cell_type": "code",
   "execution_count": null,
   "metadata": {},
   "outputs": [],
   "source": []
  },
  {
   "cell_type": "code",
   "execution_count": null,
   "metadata": {},
   "outputs": [],
   "source": []
  },
  {
   "cell_type": "code",
   "execution_count": null,
   "metadata": {},
   "outputs": [],
   "source": []
  }
 ],
 "metadata": {
  "@webio": {
   "lastCommId": null,
   "lastKernelId": null
  },
  "kernelspec": {
   "display_name": "Julia 1.1.1",
   "language": "julia",
   "name": "julia-1.1"
  },
  "language_info": {
   "file_extension": ".jl",
   "mimetype": "application/julia",
   "name": "julia",
   "version": "1.1.1"
  }
 },
 "nbformat": 4,
 "nbformat_minor": 2
}
